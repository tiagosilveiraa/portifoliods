{
  "nbformat": 4,
  "nbformat_minor": 0,
  "metadata": {
    "colab": {
      "provenance": [],
      "collapsed_sections": [],
      "authorship_tag": "ABX9TyMtd3tcWHdVl3KOaGhu7vsH",
      "include_colab_link": true
    },
    "kernelspec": {
      "name": "python3",
      "display_name": "Python 3"
    },
    "language_info": {
      "name": "python"
    },
    "widgets": {
      "application/vnd.jupyter.widget-state+json": {
        "8cfb48be8b8048d2bd90ef2aadf5006b": {
          "model_module": "@jupyter-widgets/controls",
          "model_name": "HBoxModel",
          "model_module_version": "1.5.0",
          "state": {
            "_dom_classes": [],
            "_model_module": "@jupyter-widgets/controls",
            "_model_module_version": "1.5.0",
            "_model_name": "HBoxModel",
            "_view_count": null,
            "_view_module": "@jupyter-widgets/controls",
            "_view_module_version": "1.5.0",
            "_view_name": "HBoxView",
            "box_style": "",
            "children": [
              "IPY_MODEL_7afd4946ce1f45ee89bc9333081cf00d",
              "IPY_MODEL_7e731a1cb58e432db8033f763009efd9"
            ],
            "layout": "IPY_MODEL_9a538a99387345058b3da14322fb5207"
          }
        },
        "7afd4946ce1f45ee89bc9333081cf00d": {
          "model_module": "@jupyter-widgets/controls",
          "model_name": "DropdownModel",
          "model_module_version": "1.5.0",
          "state": {
            "_dom_classes": [],
            "_model_module": "@jupyter-widgets/controls",
            "_model_module_version": "1.5.0",
            "_model_name": "DropdownModel",
            "_options_labels": [
              "European Championship",
              "Copa América",
              "World Cup",
              "UEFA Champions League",
              "UEFA Europa League",
              "European Championship, Qualification",
              "Premier League",
              "LaLiga",
              "Copa del Rey",
              "Bundesliga",
              "Serie A",
              "Ligue 1",
              "UEFA Nations League",
              "World Cup Qual. UEFA",
              "World Cup Qual. CAF ",
              "CAF Champions League",
              "Africa Cup of Nations",
              "Brasileiro Série A",
              "World Cup Qual. AFC",
              "Olympic Games Women",
              "World Cup Qualification, Inter-Confederation Playoffs",
              "Club World Cup",
              "Olympic Games",
              "World Cup Women",
              "World Cup Qual. CONCACAF",
              "World Cup Qual. CONMEBOL",
              "CONMEBOL Libertadores",
              "World Cup Qual. OFC",
              "UEFA Europa Conference League"
            ],
            "_view_count": null,
            "_view_module": "@jupyter-widgets/controls",
            "_view_module_version": "1.5.0",
            "_view_name": "DropdownView",
            "description": "",
            "description_tooltip": null,
            "disabled": false,
            "index": 11,
            "layout": "IPY_MODEL_36324f2882464c58a7c03a23c4182799",
            "style": "IPY_MODEL_a4443e0f804e44f6a0afa9d1f135aaea"
          }
        },
        "7e731a1cb58e432db8033f763009efd9": {
          "model_module": "@jupyter-widgets/controls",
          "model_name": "DropdownModel",
          "model_module_version": "1.5.0",
          "state": {
            "_dom_classes": [],
            "_model_module": "@jupyter-widgets/controls",
            "_model_module_version": "1.5.0",
            "_model_name": "DropdownModel",
            "_options_labels": [
              "22/23",
              "21/22",
              "20/21",
              "19/20",
              "18/19",
              "17/18",
              "16/17",
              "15/16",
              "14/15",
              "13/14",
              "12/13",
              "11/12",
              "10/11",
              "09/10",
              "08/09",
              "07/08",
              "06/07",
              "05/06",
              "04/05",
              "03/04",
              "02/03",
              "01/02",
              "00/01",
              "99/00",
              "98/99",
              "97/98"
            ],
            "_view_count": null,
            "_view_module": "@jupyter-widgets/controls",
            "_view_module_version": "1.5.0",
            "_view_name": "DropdownView",
            "description": "",
            "description_tooltip": null,
            "disabled": false,
            "index": 1,
            "layout": "IPY_MODEL_b6989ef9fc1748c2a517b648ae40af8c",
            "style": "IPY_MODEL_4fa9f2bcf7b94bbb865d7c6d7c083079"
          }
        },
        "9a538a99387345058b3da14322fb5207": {
          "model_module": "@jupyter-widgets/base",
          "model_name": "LayoutModel",
          "model_module_version": "1.2.0",
          "state": {
            "_model_module": "@jupyter-widgets/base",
            "_model_module_version": "1.2.0",
            "_model_name": "LayoutModel",
            "_view_count": null,
            "_view_module": "@jupyter-widgets/base",
            "_view_module_version": "1.2.0",
            "_view_name": "LayoutView",
            "align_content": null,
            "align_items": null,
            "align_self": null,
            "border": null,
            "bottom": null,
            "display": null,
            "flex": null,
            "flex_flow": null,
            "grid_area": null,
            "grid_auto_columns": null,
            "grid_auto_flow": null,
            "grid_auto_rows": null,
            "grid_column": null,
            "grid_gap": null,
            "grid_row": null,
            "grid_template_areas": null,
            "grid_template_columns": null,
            "grid_template_rows": null,
            "height": null,
            "justify_content": null,
            "justify_items": null,
            "left": null,
            "margin": null,
            "max_height": null,
            "max_width": null,
            "min_height": null,
            "min_width": null,
            "object_fit": null,
            "object_position": null,
            "order": null,
            "overflow": null,
            "overflow_x": null,
            "overflow_y": null,
            "padding": null,
            "right": null,
            "top": null,
            "visibility": null,
            "width": null
          }
        },
        "36324f2882464c58a7c03a23c4182799": {
          "model_module": "@jupyter-widgets/base",
          "model_name": "LayoutModel",
          "model_module_version": "1.2.0",
          "state": {
            "_model_module": "@jupyter-widgets/base",
            "_model_module_version": "1.2.0",
            "_model_name": "LayoutModel",
            "_view_count": null,
            "_view_module": "@jupyter-widgets/base",
            "_view_module_version": "1.2.0",
            "_view_name": "LayoutView",
            "align_content": null,
            "align_items": null,
            "align_self": null,
            "border": null,
            "bottom": null,
            "display": null,
            "flex": null,
            "flex_flow": null,
            "grid_area": null,
            "grid_auto_columns": null,
            "grid_auto_flow": null,
            "grid_auto_rows": null,
            "grid_column": null,
            "grid_gap": null,
            "grid_row": null,
            "grid_template_areas": null,
            "grid_template_columns": null,
            "grid_template_rows": null,
            "height": null,
            "justify_content": null,
            "justify_items": null,
            "left": null,
            "margin": null,
            "max_height": null,
            "max_width": null,
            "min_height": null,
            "min_width": null,
            "object_fit": null,
            "object_position": null,
            "order": null,
            "overflow": null,
            "overflow_x": null,
            "overflow_y": null,
            "padding": null,
            "right": null,
            "top": null,
            "visibility": null,
            "width": null
          }
        },
        "a4443e0f804e44f6a0afa9d1f135aaea": {
          "model_module": "@jupyter-widgets/controls",
          "model_name": "DescriptionStyleModel",
          "model_module_version": "1.5.0",
          "state": {
            "_model_module": "@jupyter-widgets/controls",
            "_model_module_version": "1.5.0",
            "_model_name": "DescriptionStyleModel",
            "_view_count": null,
            "_view_module": "@jupyter-widgets/base",
            "_view_module_version": "1.2.0",
            "_view_name": "StyleView",
            "description_width": ""
          }
        },
        "b6989ef9fc1748c2a517b648ae40af8c": {
          "model_module": "@jupyter-widgets/base",
          "model_name": "LayoutModel",
          "model_module_version": "1.2.0",
          "state": {
            "_model_module": "@jupyter-widgets/base",
            "_model_module_version": "1.2.0",
            "_model_name": "LayoutModel",
            "_view_count": null,
            "_view_module": "@jupyter-widgets/base",
            "_view_module_version": "1.2.0",
            "_view_name": "LayoutView",
            "align_content": null,
            "align_items": null,
            "align_self": null,
            "border": null,
            "bottom": null,
            "display": null,
            "flex": null,
            "flex_flow": null,
            "grid_area": null,
            "grid_auto_columns": null,
            "grid_auto_flow": null,
            "grid_auto_rows": null,
            "grid_column": null,
            "grid_gap": null,
            "grid_row": null,
            "grid_template_areas": null,
            "grid_template_columns": null,
            "grid_template_rows": null,
            "height": null,
            "justify_content": null,
            "justify_items": null,
            "left": null,
            "margin": null,
            "max_height": null,
            "max_width": null,
            "min_height": null,
            "min_width": null,
            "object_fit": null,
            "object_position": null,
            "order": null,
            "overflow": null,
            "overflow_x": null,
            "overflow_y": null,
            "padding": null,
            "right": null,
            "top": null,
            "visibility": null,
            "width": null
          }
        },
        "4fa9f2bcf7b94bbb865d7c6d7c083079": {
          "model_module": "@jupyter-widgets/controls",
          "model_name": "DescriptionStyleModel",
          "model_module_version": "1.5.0",
          "state": {
            "_model_module": "@jupyter-widgets/controls",
            "_model_module_version": "1.5.0",
            "_model_name": "DescriptionStyleModel",
            "_view_count": null,
            "_view_module": "@jupyter-widgets/base",
            "_view_module_version": "1.2.0",
            "_view_name": "StyleView",
            "description_width": ""
          }
        },
        "ab4108e0f1424a6b8047fc614025d237": {
          "model_module": "@jupyter-widgets/controls",
          "model_name": "HBoxModel",
          "model_module_version": "1.5.0",
          "state": {
            "_dom_classes": [],
            "_model_module": "@jupyter-widgets/controls",
            "_model_module_version": "1.5.0",
            "_model_name": "HBoxModel",
            "_view_count": null,
            "_view_module": "@jupyter-widgets/controls",
            "_view_module_version": "1.5.0",
            "_view_name": "HBoxView",
            "box_style": "",
            "children": [
              "IPY_MODEL_f37c4f3efc884887be6d344323a5ff6f",
              "IPY_MODEL_eb5003e265f64891898fbd0c9026bae7"
            ],
            "layout": "IPY_MODEL_d5a495a6d5b641cfb09b29b30e0357fa"
          }
        },
        "f37c4f3efc884887be6d344323a5ff6f": {
          "model_module": "@jupyter-widgets/controls",
          "model_name": "ButtonModel",
          "model_module_version": "1.5.0",
          "state": {
            "_dom_classes": [],
            "_model_module": "@jupyter-widgets/controls",
            "_model_module_version": "1.5.0",
            "_model_name": "ButtonModel",
            "_view_count": null,
            "_view_module": "@jupyter-widgets/controls",
            "_view_module_version": "1.5.0",
            "_view_name": "ButtonView",
            "button_style": "",
            "description": "Adicionar",
            "disabled": false,
            "icon": "",
            "layout": "IPY_MODEL_a4affbde93334213be6e65e613dbd008",
            "style": "IPY_MODEL_ce95f69e41cd4b4abe7519a2137e6eb1",
            "tooltip": ""
          }
        },
        "eb5003e265f64891898fbd0c9026bae7": {
          "model_module": "@jupyter-widgets/controls",
          "model_name": "ButtonModel",
          "model_module_version": "1.5.0",
          "state": {
            "_dom_classes": [],
            "_model_module": "@jupyter-widgets/controls",
            "_model_module_version": "1.5.0",
            "_model_name": "ButtonModel",
            "_view_count": null,
            "_view_module": "@jupyter-widgets/controls",
            "_view_module_version": "1.5.0",
            "_view_name": "ButtonView",
            "button_style": "",
            "description": "Limpar Seleções",
            "disabled": false,
            "icon": "",
            "layout": "IPY_MODEL_5fcd7eb2867d4eabaeb4a0fc2687e77d",
            "style": "IPY_MODEL_2b2176ed3ebc44bf8f64580069693b91",
            "tooltip": ""
          }
        },
        "d5a495a6d5b641cfb09b29b30e0357fa": {
          "model_module": "@jupyter-widgets/base",
          "model_name": "LayoutModel",
          "model_module_version": "1.2.0",
          "state": {
            "_model_module": "@jupyter-widgets/base",
            "_model_module_version": "1.2.0",
            "_model_name": "LayoutModel",
            "_view_count": null,
            "_view_module": "@jupyter-widgets/base",
            "_view_module_version": "1.2.0",
            "_view_name": "LayoutView",
            "align_content": null,
            "align_items": null,
            "align_self": null,
            "border": null,
            "bottom": null,
            "display": null,
            "flex": null,
            "flex_flow": null,
            "grid_area": null,
            "grid_auto_columns": null,
            "grid_auto_flow": null,
            "grid_auto_rows": null,
            "grid_column": null,
            "grid_gap": null,
            "grid_row": null,
            "grid_template_areas": null,
            "grid_template_columns": null,
            "grid_template_rows": null,
            "height": null,
            "justify_content": null,
            "justify_items": null,
            "left": null,
            "margin": null,
            "max_height": null,
            "max_width": null,
            "min_height": null,
            "min_width": null,
            "object_fit": null,
            "object_position": null,
            "order": null,
            "overflow": null,
            "overflow_x": null,
            "overflow_y": null,
            "padding": null,
            "right": null,
            "top": null,
            "visibility": null,
            "width": null
          }
        },
        "a4affbde93334213be6e65e613dbd008": {
          "model_module": "@jupyter-widgets/base",
          "model_name": "LayoutModel",
          "model_module_version": "1.2.0",
          "state": {
            "_model_module": "@jupyter-widgets/base",
            "_model_module_version": "1.2.0",
            "_model_name": "LayoutModel",
            "_view_count": null,
            "_view_module": "@jupyter-widgets/base",
            "_view_module_version": "1.2.0",
            "_view_name": "LayoutView",
            "align_content": null,
            "align_items": null,
            "align_self": null,
            "border": null,
            "bottom": null,
            "display": null,
            "flex": null,
            "flex_flow": null,
            "grid_area": null,
            "grid_auto_columns": null,
            "grid_auto_flow": null,
            "grid_auto_rows": null,
            "grid_column": null,
            "grid_gap": null,
            "grid_row": null,
            "grid_template_areas": null,
            "grid_template_columns": null,
            "grid_template_rows": null,
            "height": null,
            "justify_content": null,
            "justify_items": null,
            "left": null,
            "margin": null,
            "max_height": null,
            "max_width": null,
            "min_height": null,
            "min_width": null,
            "object_fit": null,
            "object_position": null,
            "order": null,
            "overflow": null,
            "overflow_x": null,
            "overflow_y": null,
            "padding": null,
            "right": null,
            "top": null,
            "visibility": null,
            "width": null
          }
        },
        "ce95f69e41cd4b4abe7519a2137e6eb1": {
          "model_module": "@jupyter-widgets/controls",
          "model_name": "ButtonStyleModel",
          "model_module_version": "1.5.0",
          "state": {
            "_model_module": "@jupyter-widgets/controls",
            "_model_module_version": "1.5.0",
            "_model_name": "ButtonStyleModel",
            "_view_count": null,
            "_view_module": "@jupyter-widgets/base",
            "_view_module_version": "1.2.0",
            "_view_name": "StyleView",
            "button_color": null,
            "font_weight": ""
          }
        },
        "5fcd7eb2867d4eabaeb4a0fc2687e77d": {
          "model_module": "@jupyter-widgets/base",
          "model_name": "LayoutModel",
          "model_module_version": "1.2.0",
          "state": {
            "_model_module": "@jupyter-widgets/base",
            "_model_module_version": "1.2.0",
            "_model_name": "LayoutModel",
            "_view_count": null,
            "_view_module": "@jupyter-widgets/base",
            "_view_module_version": "1.2.0",
            "_view_name": "LayoutView",
            "align_content": null,
            "align_items": null,
            "align_self": null,
            "border": null,
            "bottom": null,
            "display": null,
            "flex": null,
            "flex_flow": null,
            "grid_area": null,
            "grid_auto_columns": null,
            "grid_auto_flow": null,
            "grid_auto_rows": null,
            "grid_column": null,
            "grid_gap": null,
            "grid_row": null,
            "grid_template_areas": null,
            "grid_template_columns": null,
            "grid_template_rows": null,
            "height": null,
            "justify_content": null,
            "justify_items": null,
            "left": null,
            "margin": null,
            "max_height": null,
            "max_width": null,
            "min_height": null,
            "min_width": null,
            "object_fit": null,
            "object_position": null,
            "order": null,
            "overflow": null,
            "overflow_x": null,
            "overflow_y": null,
            "padding": null,
            "right": null,
            "top": null,
            "visibility": null,
            "width": null
          }
        },
        "2b2176ed3ebc44bf8f64580069693b91": {
          "model_module": "@jupyter-widgets/controls",
          "model_name": "ButtonStyleModel",
          "model_module_version": "1.5.0",
          "state": {
            "_model_module": "@jupyter-widgets/controls",
            "_model_module_version": "1.5.0",
            "_model_name": "ButtonStyleModel",
            "_view_count": null,
            "_view_module": "@jupyter-widgets/base",
            "_view_module_version": "1.2.0",
            "_view_name": "StyleView",
            "button_color": null,
            "font_weight": ""
          }
        },
        "f99fdba03f17440ead18caebb6760951": {
          "model_module": "@jupyter-widgets/output",
          "model_name": "OutputModel",
          "model_module_version": "1.0.0",
          "state": {
            "_dom_classes": [],
            "_model_module": "@jupyter-widgets/output",
            "_model_module_version": "1.0.0",
            "_model_name": "OutputModel",
            "_view_count": null,
            "_view_module": "@jupyter-widgets/output",
            "_view_module_version": "1.0.0",
            "_view_name": "OutputView",
            "layout": "IPY_MODEL_d66322f110594fb8b8c8bdeb5ab67845",
            "msg_id": "",
            "outputs": [
              {
                "output_type": "stream",
                "name": "stdout",
                "text": [
                  "Liga adicionada com sucesso! :D\n"
                ]
              }
            ]
          }
        },
        "d66322f110594fb8b8c8bdeb5ab67845": {
          "model_module": "@jupyter-widgets/base",
          "model_name": "LayoutModel",
          "model_module_version": "1.2.0",
          "state": {
            "_model_module": "@jupyter-widgets/base",
            "_model_module_version": "1.2.0",
            "_model_name": "LayoutModel",
            "_view_count": null,
            "_view_module": "@jupyter-widgets/base",
            "_view_module_version": "1.2.0",
            "_view_name": "LayoutView",
            "align_content": null,
            "align_items": null,
            "align_self": null,
            "border": null,
            "bottom": null,
            "display": null,
            "flex": null,
            "flex_flow": null,
            "grid_area": null,
            "grid_auto_columns": null,
            "grid_auto_flow": null,
            "grid_auto_rows": null,
            "grid_column": null,
            "grid_gap": null,
            "grid_row": null,
            "grid_template_areas": null,
            "grid_template_columns": null,
            "grid_template_rows": null,
            "height": null,
            "justify_content": null,
            "justify_items": null,
            "left": null,
            "margin": null,
            "max_height": null,
            "max_width": null,
            "min_height": null,
            "min_width": null,
            "object_fit": null,
            "object_position": null,
            "order": null,
            "overflow": null,
            "overflow_x": null,
            "overflow_y": null,
            "padding": null,
            "right": null,
            "top": null,
            "visibility": null,
            "width": null
          }
        },
        "2b266db20efa4384bf18179fb94f6e91": {
          "model_module": "@jupyter-widgets/controls",
          "model_name": "SelectMultipleModel",
          "model_module_version": "1.5.0",
          "state": {
            "_dom_classes": [],
            "_model_module": "@jupyter-widgets/controls",
            "_model_module_version": "1.5.0",
            "_model_name": "SelectMultipleModel",
            "_options_labels": [
              "Goleiros",
              "Defensores",
              "Meio-Campistas",
              "Atacantes"
            ],
            "_view_count": null,
            "_view_module": "@jupyter-widgets/controls",
            "_view_module_version": "1.5.0",
            "_view_name": "SelectMultipleView",
            "description": "Posições: ",
            "description_tooltip": null,
            "disabled": false,
            "index": [
              2
            ],
            "layout": "IPY_MODEL_262381a9162f4794b0f854fb25d76b1e",
            "rows": 5,
            "style": "IPY_MODEL_68cc1d9aa7d54a5c93ae2e7e5b03a36f"
          }
        },
        "262381a9162f4794b0f854fb25d76b1e": {
          "model_module": "@jupyter-widgets/base",
          "model_name": "LayoutModel",
          "model_module_version": "1.2.0",
          "state": {
            "_model_module": "@jupyter-widgets/base",
            "_model_module_version": "1.2.0",
            "_model_name": "LayoutModel",
            "_view_count": null,
            "_view_module": "@jupyter-widgets/base",
            "_view_module_version": "1.2.0",
            "_view_name": "LayoutView",
            "align_content": null,
            "align_items": null,
            "align_self": null,
            "border": null,
            "bottom": null,
            "display": null,
            "flex": null,
            "flex_flow": null,
            "grid_area": null,
            "grid_auto_columns": null,
            "grid_auto_flow": null,
            "grid_auto_rows": null,
            "grid_column": null,
            "grid_gap": null,
            "grid_row": null,
            "grid_template_areas": null,
            "grid_template_columns": null,
            "grid_template_rows": null,
            "height": null,
            "justify_content": null,
            "justify_items": null,
            "left": null,
            "margin": null,
            "max_height": null,
            "max_width": null,
            "min_height": null,
            "min_width": null,
            "object_fit": null,
            "object_position": null,
            "order": null,
            "overflow": null,
            "overflow_x": null,
            "overflow_y": null,
            "padding": null,
            "right": null,
            "top": null,
            "visibility": null,
            "width": null
          }
        },
        "68cc1d9aa7d54a5c93ae2e7e5b03a36f": {
          "model_module": "@jupyter-widgets/controls",
          "model_name": "DescriptionStyleModel",
          "model_module_version": "1.5.0",
          "state": {
            "_model_module": "@jupyter-widgets/controls",
            "_model_module_version": "1.5.0",
            "_model_name": "DescriptionStyleModel",
            "_view_count": null,
            "_view_module": "@jupyter-widgets/base",
            "_view_module_version": "1.2.0",
            "_view_name": "StyleView",
            "description_width": ""
          }
        },
        "61c040e859e0446ab97aeae30918ec5d": {
          "model_module": "@jupyter-widgets/controls",
          "model_name": "VBoxModel",
          "model_module_version": "1.5.0",
          "state": {
            "_dom_classes": [
              "widget-interact"
            ],
            "_model_module": "@jupyter-widgets/controls",
            "_model_module_version": "1.5.0",
            "_model_name": "VBoxModel",
            "_view_count": null,
            "_view_module": "@jupyter-widgets/controls",
            "_view_module_version": "1.5.0",
            "_view_name": "VBoxView",
            "box_style": "",
            "children": [
              "IPY_MODEL_704785e2f714453da60cffe4314fafda",
              "IPY_MODEL_b4d9828850f04e0fa6203f1ae50eef6f"
            ],
            "layout": "IPY_MODEL_64334e2c7ead40b69b51f9d35cfefd87"
          }
        },
        "704785e2f714453da60cffe4314fafda": {
          "model_module": "@jupyter-widgets/controls",
          "model_name": "DropdownModel",
          "model_module_version": "1.5.0",
          "state": {
            "_dom_classes": [],
            "_model_module": "@jupyter-widgets/controls",
            "_model_module_version": "1.5.0",
            "_model_name": "DropdownModel",
            "_options_labels": [
              "Ademir",
              "Adil Aouchiche",
              "Adrien Thomasson",
              "Adson",
              "Airton",
              "Alan Franco",
              "Alan Santos",
              "Aleksandr Golovin",
              "Alesson",
              "Alexis Claude-Maurice",
              "Alexis Flips",
              "Alison",
              "Alisson",
              "Allan",
              "Alê",
              "Amadou Onana",
              "Amine Bassi",
              "Amine Harit",
              "Ander Herrera",
              "Anderson Leite",
              "Andreas Pereira",
              "André",
              "André",
              "André Luís",
              "Angel Gomes",
              "Angelo Fulgini",
              "Antonin Bobichon",
              "Arbër Zeneli",
              "Arthur Gomes",
              "Artur",
              "Assane Dioussé",
              "Auremir",
              "Aurélien Tchouaméni",
              "Azor Matusiwa",
              "Azzedine Ounahi",
              "Baptiste Santamaria",
              "Baralhas",
              "Batista Mendy",
              "Benjamin André",
              "Benjamin Bourigeaud",
              "Betinho",
              "Bonke Innocent",
              "Boubacar Kamara",
              "Boubacar Traoré",
              "Bruninho",
              "Bruno Guimarães",
              "Bruno Melo",
              "Bruno Nazário",
              "Bruno Praxedes",
              "Bruno Tubarão",
              "Caio Paulista",
              "Calebe",
              "Calvin Stengs",
              "Camilo",
              "Capixaba",
              "Carlos Sánchez",
              "Casimir Ninga",
              "Cesc Fàbregas",
              "Charles",
              "Charles Boli",
              "Cheick Doucouré",
              "Cheikh Niasse",
              "Chico",
              "Christian",
              "Claudinho",
              "Clayson",
              "César Pinares",
              "Dan Ndoye",
              "Danielzinho",
              "Danilo",
              "Danilo Barbosa",
              "Danilo Pereira",
              "Danylo Ignatenko",
              "Darlan",
              "Dawhan",
              "Deiver Machado",
              "Denner Melz",
              "Diego",
              "Dimitri Liénard",
              "Dion Lopy",
              "Douglas Costa",
              "Dudu",
              "Dylan Borrero",
              "Dylan Chambost",
              "Edenilson",
              "Edinho",
              "Edon Zhegrova",
              "Edson Fernando",
              "Eduardo Camavinga",
              "Edwin Mosquera",
              "Elbasan Rashani",
              "Eliot Matazo",
              "Elton",
              "Emiliano Martínez",
              "Enzo Le Fée",
              "Eric Junior Dina Ebimbe",
              "Eric Ramires",
              "Erick",
              "Eugenio Isnaldo",
              "Everaldo",
              "Everton Felipe",
              "Everton Ribeiro",
              "Fabien Centonze",
              "Fabien Lemoine",
              "Fabinho",
              "Fabinho",
              "Farid El Melali",
              "Felipe",
              "Felipe Azevedo",
              "Felipe Marques",
              "Felipe Melo",
              "Felipe Silva",
              "Fernandinho",
              "Fernando Canesin",
              "Fernando Henrique",
              "Fernando Sobral",
              "Ferreira",
              "Flavien Tait",
              "Florent Mollet",
              "Florian Tardieu",
              "Franck Honorat",
              "Fransérgio",
              "Fraser Hornby",
              "Gabriel",
              "Gabriel Boschilia",
              "Gabriel Menino",
              "Gabriel Neves",
              "Gabriel Pereira",
              "Gabriel Pirani",
              "Gabriel Sara",
              "Gabriel Veron",
              "Ganso",
              "Gelson Martins",
              "Georginio Wijnaldum",
              "Geovane",
              "Gerson",
              "Giorgian De Arrascaeta",
              "Giuliano",
              "Guilherme Azevedo",
              "Guilherme Camacho",
              "Guilherme Castilho",
              "Gustavo",
              "Gustavo Scarpa",
              "Gustavo Silva",
              "Habib Keita",
              "Habib Maïga",
              "Haris Belkebla",
              "Hatem Ben Arfa",
              "Helinho",
              "Hianga'a M'Bock",
              "Hicham Boudaoui",
              "Houssem Aouar",
              "Hugo Magnetti",
              "Hugo Moura",
              "Hyoran",
              "Ibrahima Sissoko",
              "Idrissa Gueye",
              "Igor Gomes",
              "Ilan Kebbal",
              "Isaque",
              "Ismail Jakobs",
              "Ivonei",
              "Jaderson",
              "Jadsom",
              "Jaime Alvarado",
              "Jair",
              "Jaminton Campaz",
              "Janderson",
              "Jason Berthomier",
              "Javairô Dilrosun",
              "Jean Lucas",
              "Jean Mota",
              "Jean Pyerre",
              "Jean-Eudes Aholou",
              "Jean-Ricner Bellegarde",
              "Jeff Reine-Adélaïde",
              "Jefferson Savarino",
              "Jens Cajuste",
              "Jhon Arias",
              "Jhonata Robert",
              "Jimmy Cabot",
              "Joao Rojas",
              "Jobson",
              "Jodel Dossou",
              "Johan Gastien",
              "Johnny",
              "Jonas",
              "Jonas Martin",
              "Jonathan Bamba",
              "Jonathan Clauss",
              "Jonathan Iglesias",
              "Jonathan Ikoné",
              "Jordan Ferri",
              "Jorginho",
              "Joris Chotard",
              "Josuha Guilavogui",
              "João Gomes",
              "João Paulo",
              "João Paulo",
              "Juan Cazares",
              "Juan Manuel Cuesta",
              "Julian Draxler",
              "Juninho",
              "Juninho Capixaba",
              "Juninho Valoura",
              "Junior Onana",
              "Junior Sambia",
              "Justin Kluivert",
              "Jádson",
              "Kaio Nunes",
              "Kamaldeen Sulemana",
              "Karim Azamoum",
              "Karl Toko Ekambi",
              "Kayky",
              "Kelvyn",
              "Kenedy",
              "Keno",
              "Khépren Thuram",
              "Krépin Diatta",
              "Kévin N'Doram",
              "Lamine Gueye",
              "Laurent Abergel",
              "Leandrinho",
              "Leandro Paredes",
              "Leo Leroy",
              "Lima",
              "Lima",
              "Liziero",
              "Lovro Majer",
              "Luan",
              "Lucas Araujo",
              "Lucas Braga",
              "Lucas Crispim",
              "Lucas Evangelista",
              "Lucas Gourna-Douath",
              "Lucas Kal",
              "Lucas Mugni",
              "Lucas Paquetá",
              "Lucas Ramos",
              "Lucas Silva",
              "Luciano Juba",
              "Lucien Agoumé",
              "Ludovic Blas",
              "Luiz Fernando",
              "Luiz Henrique",
              "Luiz Henrique",
              "Luiz Henrique",
              "Luizão",
              "Léo Chú",
              "Léo Cittadini",
              "Léo Gomes",
              "Léo Natel",
              "Léo Pereira",
              "Mahamé Siby",
              "Mahdi Camara",
              "Maicon",
              "Marcinho",
              "Marco Verratti",
              "Marcos Guilherme",
              "Marcus Coco",
              "Marcão Silva",
              "Marin Jakoliš",
              "Mario Lemina",
              "Marlon",
              "Marlon Freitas",
              "Marquinhos",
              "Marshall Munetsi",
              "Martín Benítez",
              "Mateus Vital",
              "Matheus Barbosa",
              "Matheus Fernandes",
              "Matheus Galdezani",
              "Matheus Henrique",
              "Matheus Jesus",
              "Matheus Jussa",
              "Matheus Martinelli",
              "Matheus Martins",
              "Matheus Vargas",
              "Matheuzinho",
              "Mathias Pereira Lage",
              "Mathias Villasanti",
              "Mathieu Cafaro",
              "Mattéo Guendouzi",
              "Matías Zaracho",
              "Maurício",
              "Maxence Caqueret",
              "Mehdi Chahiri",
              "Mehdi Zerkane",
              "Michael",
              "Moisés Ribeiro",
              "Moreto Cassama",
              "Morgan Schneiderlin",
              "Moses Simon",
              "Moussa Doumbia",
              "Murilo Rangel",
              "Mykola Kukharevych",
              "Nabil Bentaleb",
              "Nacho Fernández",
              "Nathan",
              "Nemanja Radonjić",
              "Nenê",
              "Neto",
              "Neílton",
              "Nonato",
              "Opa Nguette",
              "Oriol Busquets",
              "Orlando Berrío",
              "Osman Bukari",
              "Osvaldo",
              "Otávio",
              "Pablo",
              "Pablo Dyego",
              "Pablo Rosario",
              "Papa Ndiaga Yade",
              "Pape Gueye",
              "Pape Matar Sarr",
              "Patrick",
              "Patrick Berg",
              "Patrick Roberts",
              "Patrick de Lucca",
              "Patrick de Paula",
              "Paul Lasne",
              "Paulinho Moccelin",
              "Pedro Chirivella",
              "Pedro Naressi",
              "Pepê",
              "Pierrick Capelle",
              "Piris da Motta",
              "Przemysław Frankowski",
              "Quentin Boisgard",
              "Rafael Gava",
              "Rafinha Alcântara",
              "Ramiro",
              "Ramon",
              "Raniele",
              "Raphael Veiga",
              "Raul",
              "Ravanelli",
              "Rayan Cherki",
              "Raí Nascimento",
              "Remi Oudin",
              "Renato Augusto",
              "Renato Sanches",
              "Renaud Ripart",
              "Renê Júnior",
              "Ricardinho",
              "Ricardo Ryller",
              "Richard Coelho",
              "Rick",
              "Rickson",
              "Rodrigo Dourado",
              "Rodrigo Lindoso",
              "Rodrigo Nestor",
              "Rodriguinho",
              "Roli Pereira de Sa",
              "Romain Del Castillo",
              "Romain Faivre",
              "Romain Philippoteaux",
              "Rominigue Kouamé",
              "Ronald",
              "Ronaldo Henrique",
              "Roni",
              "Rossi",
              "Rubén Pardo",
              "Ryad Boudebouz",
              "Rémy Cabella",
              "Sabino",
              "Sada Thioub",
              "Salis Abdul Samed",
              "Sambou Sissoko",
              "Samuel Moutoussamy",
              "Sandry",
              "Sanjin Prcić",
              "Saîf-Eddine Khaoui",
              "Seko Fofana",
              "Shaylon",
              "Sofiane Diop",
              "Souleyman Doumbia",
              "Stephy Mavididi",
              "Stiven Mendoza",
              "Stéphane Diarra",
              "Taison",
              "Talles Costa",
              "Tanguy Ndombélé",
              "Tchê Tchê",
              "Teji Savanier",
              "Tetê",
              "Thaciano",
              "Thiago Lopes",
              "Thiago Maia",
              "Thiago Mendes",
              "Thiago Neves",
              "Thiago Santos",
              "Thomas Delaine",
              "Thomas Mangani",
              "Thomas Monconduit",
              "Thonny Anderson",
              "Tom Lacoux",
              "Toma Bašić",
              "Tomás Cuello",
              "Tristan Dingomé",
              "Uillian Correia",
              "Valentin Rongier",
              "Valon Berisha",
              "Victor Bobsin",
              "Victor Cantillo",
              "Vina",
              "Vincent Pajot",
              "Vinicius Balieiro",
              "Vinicius Guedes",
              "Vinicius Zanocelo",
              "Vitinho",
              "Vitinho",
              "Vitinho",
              "Vitor Bueno",
              "Wagner",
              "Waniss Taibi",
              "Warren Tchimbembé",
              "Wellington",
              "Wescley",
              "Wesley",
              "William Oliveira",
              "Willian Arão",
              "Willian Maranhão",
              "Willian Oliveira",
              "Wilson Isidor",
              "Wylan Cyprien",
              "Xavi Simons",
              "Xavier",
              "Xavier Chavalerin",
              "Xeka",
              "Xherdan Shaqiri",
              "Yacine Adli",
              "Yago Felipe",
              "Yago Pikachu",
              "Yan Sasse",
              "Yesus Cabrera",
              "Yohann Magnin",
              "Youssef Belaïli",
              "Youssouf Fofana",
              "Yuri",
              "Yusuf Yazıcı",
              "Yvan Neyou",
              "Zaydou Youssouf",
              "Zé Gabriel",
              "Zé Rafael",
              "Zé Ricardo",
              "Zé Welison",
              "Ángel Di María",
              "Ángelo Araos",
              "Éderson",
              "Éverton",
              "Índio Ramírez",
              "Óscar Ruiz"
            ],
            "_view_count": null,
            "_view_module": "@jupyter-widgets/controls",
            "_view_module_version": "1.5.0",
            "_view_name": "DropdownView",
            "description": "Player",
            "description_tooltip": null,
            "disabled": false,
            "index": 43,
            "layout": "IPY_MODEL_152876386f9b4c75bd5d6fccd6a3c7d3",
            "style": "IPY_MODEL_d2cf52b35f5840c28ee770c1f231c7ec"
          }
        },
        "b4d9828850f04e0fa6203f1ae50eef6f": {
          "model_module": "@jupyter-widgets/output",
          "model_name": "OutputModel",
          "model_module_version": "1.0.0",
          "state": {
            "_dom_classes": [],
            "_model_module": "@jupyter-widgets/output",
            "_model_module_version": "1.0.0",
            "_model_name": "OutputModel",
            "_view_count": null,
            "_view_module": "@jupyter-widgets/output",
            "_view_module_version": "1.0.0",
            "_view_name": "OutputView",
            "layout": "IPY_MODEL_e628e7da908f4ee5870b51c3e7c5c692",
            "msg_id": "",
            "outputs": [
              {
                "output_type": "display_data",
                "data": {
                  "text/plain": "            player.name       team.name  rating\n385     Boubacar Traoré            Metz    6.71\n444          Tom Lacoux        Bordeaux    6.45\n410           Dion Lopy  Stade de Reims    6.62\n174              Johnny   Internacional    6.68\n85   Matheus Martinelli      Fluminense    6.86",
                  "text/html": "\n  <div id=\"df-dcb94582-ae36-4db3-9518-4b4165297f8a\">\n    <div class=\"colab-df-container\">\n      <div>\n<style scoped>\n    .dataframe tbody tr th:only-of-type {\n        vertical-align: middle;\n    }\n\n    .dataframe tbody tr th {\n        vertical-align: top;\n    }\n\n    .dataframe thead th {\n        text-align: right;\n    }\n</style>\n<table border=\"1\" class=\"dataframe\">\n  <thead>\n    <tr style=\"text-align: right;\">\n      <th></th>\n      <th>player.name</th>\n      <th>team.name</th>\n      <th>rating</th>\n    </tr>\n  </thead>\n  <tbody>\n    <tr>\n      <th>385</th>\n      <td>Boubacar Traoré</td>\n      <td>Metz</td>\n      <td>6.71</td>\n    </tr>\n    <tr>\n      <th>444</th>\n      <td>Tom Lacoux</td>\n      <td>Bordeaux</td>\n      <td>6.45</td>\n    </tr>\n    <tr>\n      <th>410</th>\n      <td>Dion Lopy</td>\n      <td>Stade de Reims</td>\n      <td>6.62</td>\n    </tr>\n    <tr>\n      <th>174</th>\n      <td>Johnny</td>\n      <td>Internacional</td>\n      <td>6.68</td>\n    </tr>\n    <tr>\n      <th>85</th>\n      <td>Matheus Martinelli</td>\n      <td>Fluminense</td>\n      <td>6.86</td>\n    </tr>\n  </tbody>\n</table>\n</div>\n      <button class=\"colab-df-convert\" onclick=\"convertToInteractive('df-dcb94582-ae36-4db3-9518-4b4165297f8a')\"\n              title=\"Convert this dataframe to an interactive table.\"\n              style=\"display:none;\">\n        \n  <svg xmlns=\"http://www.w3.org/2000/svg\" height=\"24px\"viewBox=\"0 0 24 24\"\n       width=\"24px\">\n    <path d=\"M0 0h24v24H0V0z\" fill=\"none\"/>\n    <path d=\"M18.56 5.44l.94 2.06.94-2.06 2.06-.94-2.06-.94-.94-2.06-.94 2.06-2.06.94zm-11 1L8.5 8.5l.94-2.06 2.06-.94-2.06-.94L8.5 2.5l-.94 2.06-2.06.94zm10 10l.94 2.06.94-2.06 2.06-.94-2.06-.94-.94-2.06-.94 2.06-2.06.94z\"/><path d=\"M17.41 7.96l-1.37-1.37c-.4-.4-.92-.59-1.43-.59-.52 0-1.04.2-1.43.59L10.3 9.45l-7.72 7.72c-.78.78-.78 2.05 0 2.83L4 21.41c.39.39.9.59 1.41.59.51 0 1.02-.2 1.41-.59l7.78-7.78 2.81-2.81c.8-.78.8-2.07 0-2.86zM5.41 20L4 18.59l7.72-7.72 1.47 1.35L5.41 20z\"/>\n  </svg>\n      </button>\n      \n  <style>\n    .colab-df-container {\n      display:flex;\n      flex-wrap:wrap;\n      gap: 12px;\n    }\n\n    .colab-df-convert {\n      background-color: #E8F0FE;\n      border: none;\n      border-radius: 50%;\n      cursor: pointer;\n      display: none;\n      fill: #1967D2;\n      height: 32px;\n      padding: 0 0 0 0;\n      width: 32px;\n    }\n\n    .colab-df-convert:hover {\n      background-color: #E2EBFA;\n      box-shadow: 0px 1px 2px rgba(60, 64, 67, 0.3), 0px 1px 3px 1px rgba(60, 64, 67, 0.15);\n      fill: #174EA6;\n    }\n\n    [theme=dark] .colab-df-convert {\n      background-color: #3B4455;\n      fill: #D2E3FC;\n    }\n\n    [theme=dark] .colab-df-convert:hover {\n      background-color: #434B5C;\n      box-shadow: 0px 1px 3px 1px rgba(0, 0, 0, 0.15);\n      filter: drop-shadow(0px 1px 2px rgba(0, 0, 0, 0.3));\n      fill: #FFFFFF;\n    }\n  </style>\n\n      <script>\n        const buttonEl =\n          document.querySelector('#df-dcb94582-ae36-4db3-9518-4b4165297f8a button.colab-df-convert');\n        buttonEl.style.display =\n          google.colab.kernel.accessAllowed ? 'block' : 'none';\n\n        async function convertToInteractive(key) {\n          const element = document.querySelector('#df-dcb94582-ae36-4db3-9518-4b4165297f8a');\n          const dataTable =\n            await google.colab.kernel.invokeFunction('convertToInteractive',\n                                                     [key], {});\n          if (!dataTable) return;\n\n          const docLinkHtml = 'Like what you see? Visit the ' +\n            '<a target=\"_blank\" href=https://colab.research.google.com/notebooks/data_table.ipynb>data table notebook</a>'\n            + ' to learn more about interactive tables.';\n          element.innerHTML = '';\n          dataTable['output_type'] = 'display_data';\n          await google.colab.output.renderOutput(dataTable, element);\n          const docLink = document.createElement('div');\n          docLink.innerHTML = docLinkHtml;\n          element.appendChild(docLink);\n        }\n      </script>\n    </div>\n  </div>\n  ",
                  "application/vnd.google.colaboratory.module+javascript": "\n      import \"https://ssl.gstatic.com/colaboratory/data_table/a8bd4d5e58f96183/data_table.js\";\n\n      window.createDataTable({\n        data: [[{\n            'v': 385,\n            'f': \"385\",\n        },\n\"Boubacar Traor\\u00e9\",\n\"Metz\",\n{\n            'v': 6.71,\n            'f': \"6.71\",\n        }],\n [{\n            'v': 444,\n            'f': \"444\",\n        },\n\"Tom Lacoux\",\n\"Bordeaux\",\n{\n            'v': 6.45,\n            'f': \"6.45\",\n        }],\n [{\n            'v': 410,\n            'f': \"410\",\n        },\n\"Dion Lopy\",\n\"Stade de Reims\",\n{\n            'v': 6.62,\n            'f': \"6.62\",\n        }],\n [{\n            'v': 174,\n            'f': \"174\",\n        },\n\"Johnny\",\n\"Internacional\",\n{\n            'v': 6.68,\n            'f': \"6.68\",\n        }],\n [{\n            'v': 85,\n            'f': \"85\",\n        },\n\"Matheus Martinelli\",\n\"Fluminense\",\n{\n            'v': 6.86,\n            'f': \"6.86\",\n        }]],\n        columns: [[\"number\", \"index\"], [\"string\", \"player.name\"], [\"string\", \"team.name\"], [\"number\", \"rating\"]],\n        columnOptions: [{\"width\": \"1px\", \"className\": \"index_column\"}],\n        rowsPerPage: 25,\n        helpUrl: \"https://colab.research.google.com/notebooks/data_table.ipynb\",\n        suppressOutputScrolling: true,\n        minimumWidth: undefined,\n      });\n    "
                },
                "metadata": {}
              }
            ]
          }
        },
        "64334e2c7ead40b69b51f9d35cfefd87": {
          "model_module": "@jupyter-widgets/base",
          "model_name": "LayoutModel",
          "model_module_version": "1.2.0",
          "state": {
            "_model_module": "@jupyter-widgets/base",
            "_model_module_version": "1.2.0",
            "_model_name": "LayoutModel",
            "_view_count": null,
            "_view_module": "@jupyter-widgets/base",
            "_view_module_version": "1.2.0",
            "_view_name": "LayoutView",
            "align_content": null,
            "align_items": null,
            "align_self": null,
            "border": null,
            "bottom": null,
            "display": null,
            "flex": null,
            "flex_flow": null,
            "grid_area": null,
            "grid_auto_columns": null,
            "grid_auto_flow": null,
            "grid_auto_rows": null,
            "grid_column": null,
            "grid_gap": null,
            "grid_row": null,
            "grid_template_areas": null,
            "grid_template_columns": null,
            "grid_template_rows": null,
            "height": null,
            "justify_content": null,
            "justify_items": null,
            "left": null,
            "margin": null,
            "max_height": null,
            "max_width": null,
            "min_height": null,
            "min_width": null,
            "object_fit": null,
            "object_position": null,
            "order": null,
            "overflow": null,
            "overflow_x": null,
            "overflow_y": null,
            "padding": null,
            "right": null,
            "top": null,
            "visibility": null,
            "width": null
          }
        },
        "152876386f9b4c75bd5d6fccd6a3c7d3": {
          "model_module": "@jupyter-widgets/base",
          "model_name": "LayoutModel",
          "model_module_version": "1.2.0",
          "state": {
            "_model_module": "@jupyter-widgets/base",
            "_model_module_version": "1.2.0",
            "_model_name": "LayoutModel",
            "_view_count": null,
            "_view_module": "@jupyter-widgets/base",
            "_view_module_version": "1.2.0",
            "_view_name": "LayoutView",
            "align_content": null,
            "align_items": null,
            "align_self": null,
            "border": null,
            "bottom": null,
            "display": null,
            "flex": null,
            "flex_flow": null,
            "grid_area": null,
            "grid_auto_columns": null,
            "grid_auto_flow": null,
            "grid_auto_rows": null,
            "grid_column": null,
            "grid_gap": null,
            "grid_row": null,
            "grid_template_areas": null,
            "grid_template_columns": null,
            "grid_template_rows": null,
            "height": null,
            "justify_content": null,
            "justify_items": null,
            "left": null,
            "margin": null,
            "max_height": null,
            "max_width": null,
            "min_height": null,
            "min_width": null,
            "object_fit": null,
            "object_position": null,
            "order": null,
            "overflow": null,
            "overflow_x": null,
            "overflow_y": null,
            "padding": null,
            "right": null,
            "top": null,
            "visibility": null,
            "width": null
          }
        },
        "d2cf52b35f5840c28ee770c1f231c7ec": {
          "model_module": "@jupyter-widgets/controls",
          "model_name": "DescriptionStyleModel",
          "model_module_version": "1.5.0",
          "state": {
            "_model_module": "@jupyter-widgets/controls",
            "_model_module_version": "1.5.0",
            "_model_name": "DescriptionStyleModel",
            "_view_count": null,
            "_view_module": "@jupyter-widgets/base",
            "_view_module_version": "1.2.0",
            "_view_name": "StyleView",
            "description_width": ""
          }
        },
        "e628e7da908f4ee5870b51c3e7c5c692": {
          "model_module": "@jupyter-widgets/base",
          "model_name": "LayoutModel",
          "model_module_version": "1.2.0",
          "state": {
            "_model_module": "@jupyter-widgets/base",
            "_model_module_version": "1.2.0",
            "_model_name": "LayoutModel",
            "_view_count": null,
            "_view_module": "@jupyter-widgets/base",
            "_view_module_version": "1.2.0",
            "_view_name": "LayoutView",
            "align_content": null,
            "align_items": null,
            "align_self": null,
            "border": null,
            "bottom": null,
            "display": null,
            "flex": null,
            "flex_flow": null,
            "grid_area": null,
            "grid_auto_columns": null,
            "grid_auto_flow": null,
            "grid_auto_rows": null,
            "grid_column": null,
            "grid_gap": null,
            "grid_row": null,
            "grid_template_areas": null,
            "grid_template_columns": null,
            "grid_template_rows": null,
            "height": null,
            "justify_content": null,
            "justify_items": null,
            "left": null,
            "margin": null,
            "max_height": null,
            "max_width": null,
            "min_height": null,
            "min_width": null,
            "object_fit": null,
            "object_position": null,
            "order": null,
            "overflow": null,
            "overflow_x": null,
            "overflow_y": null,
            "padding": null,
            "right": null,
            "top": null,
            "visibility": null,
            "width": null
          }
        }
      }
    }
  },
  "cells": [
    {
      "cell_type": "markdown",
      "metadata": {
        "id": "view-in-github",
        "colab_type": "text"
      },
      "source": [
        "<a href=\"https://colab.research.google.com/github/tiagosilveiraa/portifoliods/blob/main/Recomenda%C3%A7%C3%A3o_de_Jogadores.ipynb\" target=\"_parent\"><img src=\"https://colab.research.google.com/assets/colab-badge.svg\" alt=\"Open In Colab\"/></a>"
      ]
    },
    {
      "cell_type": "code",
      "source": [
        "import numpy as np\n",
        "import pandas as pd\n",
        "import requests\n",
        "import asyncio\n",
        "from datetime import date\n",
        "import ipywidgets as widgets\n",
        "from IPython.display import display\n",
        "import seaborn as sns\n",
        "from matplotlib import rcParams\n",
        "from google.colab import data_table"
      ],
      "metadata": {
        "id": "aE8Dligju-L2"
      },
      "execution_count": 1,
      "outputs": []
    },
    {
      "cell_type": "code",
      "source": [
        "pd.set_option('display.max_rows', 10)\n",
        "pd.set_option('display.max_columns', 100)\n",
        "rcParams['figure.figsize'] = 20,9.27\n",
        "rcParams['axes.titlesize'] = 22\n",
        "rcParams['axes.labelsize'] = 16\n",
        "data_table.enable_dataframe_formatter()\n",
        "np.random.seed(777)"
      ],
      "metadata": {
        "id": "apALPz3mM-pv",
        "cellView": "form"
      },
      "execution_count": 2,
      "outputs": []
    },
    {
      "cell_type": "markdown",
      "source": [
        "#1 - Parametrização\n",
        "\n"
      ],
      "metadata": {
        "id": "tdUDMrSduwVO"
      }
    },
    {
      "cell_type": "code",
      "source": [
        "leagues = requests.get('https://api.sofascore.com/api/v1/config/unique-tournaments/BR/football').json()['uniqueTournaments']\n",
        "seasons = []\n",
        "dp_leagues_data = []\n",
        "dp_seasons_data = []\n",
        "for l in leagues:  \n",
        "  dp_leagues_data.append((l['name'], l['id']))\n",
        "  s = requests.get(f'https://api.sofascore.com/api/v1/unique-tournament/{l[\"id\"]}/seasons').json()['seasons']  \n",
        "  for si in s:\n",
        "    si['league'] = l['id']\n",
        "    dp_seasons_data.append((si['year'], si['id'], si['league']))      "
      ],
      "metadata": {
        "id": "IC3w0XIx5Pxq",
        "cellView": "form"
      },
      "execution_count": 8,
      "outputs": []
    },
    {
      "cell_type": "markdown",
      "source": [
        "No menu abaixo selecione as ligas e temporadas que deseja obter os dados."
      ],
      "metadata": {
        "id": "vVVxkgzfLfRR"
      }
    },
    {
      "cell_type": "code",
      "source": [
        "#UI\n",
        "add_button = widgets.Button(description=\"Adicionar\")\n",
        "clear_button = widgets.Button(description=\"Limpar Seleções\")\n",
        "dp_leagues = widgets.Dropdown(options=dp_leagues_data, value=None)\n",
        "dp_seasons = widgets.Dropdown(value=None)\n",
        "UI_INPUTS = widgets.HBox([dp_leagues, dp_seasons])\n",
        "UI_BUTTONS = widgets.HBox([add_button, clear_button])\n",
        "output = widgets.Output()\n",
        "selected_leagues = []\n",
        "selected_seasons = []\n",
        "\n",
        "def on_change(event):\n",
        "  dp_seasons_league = []\n",
        "  if event['name'] == 'value':\n",
        "    for ds in dp_seasons_data:\n",
        "      #Busco apenas pelas seasons da liga selecionada pela posição na tupla\n",
        "      if ds[2] == event['new']: \n",
        "        dp_seasons_league.append(ds[0:2])\n",
        "    dp_seasons.options = dp_seasons_league\n",
        "\n",
        "def add_league(b):\n",
        "  if dp_leagues.value == None or dp_seasons.value == None:\n",
        "    output.clear_output()\n",
        "    print('Informações não preenchidas!')\n",
        "  elif dp_leagues.value in selected_leagues and dp_seasons.value in selected_seasons:\n",
        "    with output:      \n",
        "      output.clear_output()\n",
        "      print(f\"Erro: Liga e temporada já adicionadas\")       \n",
        "  else:\n",
        "    selected_leagues.append(dp_leagues.value)\n",
        "    selected_seasons.append(dp_seasons.value) \n",
        "    output.clear_output()   \n",
        "    with output:      \n",
        "      print('Liga adicionada com sucesso! :D')\n",
        "\n",
        "def clear_selection(b):\n",
        "  selected_leagues.clear()\n",
        "  selected_seasons.clear()\n",
        "  with output:      \n",
        "      print('Parâmetros reiniciados.')\n",
        "      \n",
        "dp_leagues.observe(on_change)\n",
        "add_button.on_click(add_league)\n",
        "clear_button.on_click(clear_selection)\n",
        "display(UI_INPUTS, UI_BUTTONS, output)"
      ],
      "metadata": {
        "colab": {
          "base_uri": "https://localhost:8080/",
          "height": 99,
          "referenced_widgets": [
            "8cfb48be8b8048d2bd90ef2aadf5006b",
            "7afd4946ce1f45ee89bc9333081cf00d",
            "7e731a1cb58e432db8033f763009efd9",
            "9a538a99387345058b3da14322fb5207",
            "36324f2882464c58a7c03a23c4182799",
            "a4443e0f804e44f6a0afa9d1f135aaea",
            "b6989ef9fc1748c2a517b648ae40af8c",
            "4fa9f2bcf7b94bbb865d7c6d7c083079",
            "ab4108e0f1424a6b8047fc614025d237",
            "f37c4f3efc884887be6d344323a5ff6f",
            "eb5003e265f64891898fbd0c9026bae7",
            "d5a495a6d5b641cfb09b29b30e0357fa",
            "a4affbde93334213be6e65e613dbd008",
            "ce95f69e41cd4b4abe7519a2137e6eb1",
            "5fcd7eb2867d4eabaeb4a0fc2687e77d",
            "2b2176ed3ebc44bf8f64580069693b91",
            "f99fdba03f17440ead18caebb6760951",
            "d66322f110594fb8b8c8bdeb5ab67845"
          ]
        },
        "id": "9J9_YKGI_9M0",
        "outputId": "67b4fe12-ef69-4b1e-a716-5012f0ecbc96",
        "cellView": "form"
      },
      "execution_count": 9,
      "outputs": [
        {
          "output_type": "display_data",
          "data": {
            "text/plain": [
              "HBox(children=(Dropdown(options=(('European Championship', 1), ('Copa América', 133), ('World Cup', 16), ('UEF…"
            ],
            "application/vnd.jupyter.widget-view+json": {
              "version_major": 2,
              "version_minor": 0,
              "model_id": "8cfb48be8b8048d2bd90ef2aadf5006b"
            }
          },
          "metadata": {}
        },
        {
          "output_type": "display_data",
          "data": {
            "text/plain": [
              "HBox(children=(Button(description='Adicionar', style=ButtonStyle()), Button(description='Limpar Seleções', sty…"
            ],
            "application/vnd.jupyter.widget-view+json": {
              "version_major": 2,
              "version_minor": 0,
              "model_id": "ab4108e0f1424a6b8047fc614025d237"
            }
          },
          "metadata": {}
        },
        {
          "output_type": "display_data",
          "data": {
            "text/plain": [
              "Output()"
            ],
            "application/vnd.jupyter.widget-view+json": {
              "version_major": 2,
              "version_minor": 0,
              "model_id": "f99fdba03f17440ead18caebb6760951"
            }
          },
          "metadata": {}
        }
      ]
    },
    {
      "cell_type": "markdown",
      "source": [
        "Agora selecione as posições dos jogadores que terão seus dados extraídos.\n",
        "\n",
        "*Para selecionar mais de uma posição use as teclas CRTL ou SHIFT*"
      ],
      "metadata": {
        "id": "4gFTHd0ChYXU"
      }
    },
    {
      "cell_type": "code",
      "source": [
        "dp_positions = widgets.SelectMultiple(\n",
        "    options=[('Goleiros', 'G'), ('Defensores', 'D'), ('Meio-Campistas', 'M'), ('Atacantes','F')],    \n",
        "    value=['G', 'D', 'M', 'F'],\n",
        "    #rows=10,\n",
        "    description='Posições: ',\n",
        "    disabled=False\n",
        ")\n",
        "display(dp_positions)"
      ],
      "metadata": {
        "colab": {
          "base_uri": "https://localhost:8080/",
          "height": 111,
          "referenced_widgets": [
            "2b266db20efa4384bf18179fb94f6e91",
            "262381a9162f4794b0f854fb25d76b1e",
            "68cc1d9aa7d54a5c93ae2e7e5b03a36f"
          ]
        },
        "cellView": "form",
        "id": "JA52XImtgcs6",
        "outputId": "f2920346-35f6-49cf-ebf1-b1d98197d325"
      },
      "execution_count": 10,
      "outputs": [
        {
          "output_type": "display_data",
          "data": {
            "text/plain": [
              "SelectMultiple(description='Posições: ', index=(0, 1, 2, 3), options=(('Goleiros', 'G'), ('Defensores', 'D'), …"
            ],
            "application/vnd.jupyter.widget-view+json": {
              "version_major": 2,
              "version_minor": 0,
              "model_id": "2b266db20efa4384bf18179fb94f6e91"
            }
          },
          "metadata": {}
        }
      ]
    },
    {
      "cell_type": "markdown",
      "source": [
        "#2 - Obtenção das estatisticas\n",
        "Nesta etapa iremos utilizar os parâmetros definidos acima para capturar os dados no SofaScore"
      ],
      "metadata": {
        "id": "7cm1gDeYtZ7z"
      }
    },
    {
      "cell_type": "code",
      "source": [
        "def make_url_stats(competition, season, position, offset):\n",
        "  return f\"https://api.sofascore.com/api/v1/unique-tournament/{competition}/season/{season}/statistics?offset={offset}&order=-rating&accumulation=total&filters=position.in.{position}&fields=%2CbigChancesMissed%2CsuccessfulDribbles%2CsuccessfulDribblesPercentage%2CtotalShots%2CshotsOnTarget%2CshotsOffTarget%2CblockedShots%2CgoalConversionPercentage%2CpenaltiesTaken%2CpenaltyGoals%2CpenaltyWon%2CshotFromSetPiece%2CfreeKickGoal%2CgoalsFromInsideTheBox%2CgoalsFromOutsideTheBox%2CheadedGoals%2CleftFootGoals%2CrightFootGoal%2CshitWoodwork%2Coffsides%2CpenaltyConversion%2CsetPieceConversion%2Crating%2Cinterceptions%2CpenaltyConceded%2Cclearances%2CerrorLeadToGoal%2CerrorLeadToShot%2CownGoals%2CdribbledPast%2CcleanSheet%2C rating %2CbigChancesCreated%2Cassists %2CaccuratePasses%2CinaccuratePasses%2CtotalPasses%2CaccuratePassesPercentage %2CaccurateOwnHalfPasses%2CaccurateOppositionHalfPasses%2CaccurateFinalThirdPasses%2CkeyPasses%2CaccurateCrosses%2CaccurateCrossesPercentage%2CaccurateLongBalls%2CaccurateLongBallsPercentage%2CpassToAssist%2Crating %2CcleanSheet%2CpenaltyFaced%2CpenaltySave%2CsavedShotsFromInsideTheBox%2CsavedShotsFromOutsideTheBox%2CgoalsConcededInsideTheBox%2CgoalsConcededOutsideTheBox%2Cpunches%2CsuccessfulRunsOut%2ChighClaims%2CcrossesNotClaimed%2Crating %2CyellowCards%2CredCards%2CgroundDuelsWon%2CgroundDuelsWonPercentage%2CaerialDuelsWon%2CaerialDuelsWonPercentage%2CtotalDuelsWon%2CtotalDuelsWonPercentage%2CminutesPlayed%2CwasFouled%2Cfouls%2Cdispossessed%2CpossessionLost%2Cappearances%2CmatchesStarted%2Crating &limit=20\""
      ],
      "metadata": {
        "id": "oqrEZOXmx_E5",
        "cellView": "form"
      },
      "execution_count": 11,
      "outputs": []
    },
    {
      "cell_type": "code",
      "source": [
        "def get_stats(leagues, seasons, positions):\n",
        "  stats = pd.DataFrame()  \n",
        "  for idx, l in enumerate(leagues):    \n",
        "    for p in positions:\n",
        "     iw = 0\n",
        "     while True:  \n",
        "       response = requests.get(make_url_stats(l, seasons[idx], p, iw))\n",
        "       #Já percoreu todos os players então paro\n",
        "       if response.json()['results'] == []:        \n",
        "         break;\n",
        "\n",
        "       response = response.json()['results']\n",
        "       response = pd.json_normalize(response, max_level=6)\n",
        "       response['league'] = l      \n",
        "       stats = pd.concat([stats, response], ignore_index=True)    \n",
        "       iw = iw + 20 \n",
        "  return stats"
      ],
      "metadata": {
        "id": "gcBFR4BIETS4",
        "cellView": "form"
      },
      "execution_count": 12,
      "outputs": []
    },
    {
      "cell_type": "code",
      "source": [
        "df_players = get_stats(selected_leagues, selected_seasons, dp_positions.value)"
      ],
      "metadata": {
        "id": "zK6UePfWWRXm",
        "cellView": "form"
      },
      "execution_count": 13,
      "outputs": []
    },
    {
      "cell_type": "markdown",
      "source": [
        "#3 - Enriquecimento dos dados\n",
        "Na etapa anterior obtivemos todas as estatisticas disponíveis para os jogadores, agora vamos fazer o enriquecimento desses dados com outras informações."
      ],
      "metadata": {
        "id": "cq77saYYtsbS"
      }
    },
    {
      "cell_type": "markdown",
      "source": [
        "Buscando por posições alternativas para cada player, bem como algumas caracteristicas, como altura, valor de mercado e etc..."
      ],
      "metadata": {
        "id": "ViqJ_skV_Cbp"
      }
    },
    {
      "cell_type": "code",
      "source": [
        "async def parallel_requests(coroutines):\n",
        "  await asyncio.gather(*coroutines)"
      ],
      "metadata": {
        "id": "lpKBdvAkK0QO"
      },
      "execution_count": 14,
      "outputs": []
    },
    {
      "cell_type": "code",
      "source": [
        "players_atributtes = []\n",
        "players_alternative_positions = []\n",
        "\n",
        "async def get_player_attributes(player_id):\n",
        "  response_data = requests.get(f'https://api.sofascore.com/api/v1/player/{player_id}')\n",
        "  response = response_data.json()['player']\n",
        "  response['player.id'] = player_id #Para fazer o merge depois\n",
        "  players_atributtes.append(response)\n",
        "\n",
        "async def get_alternative_positions(player_id):\n",
        "  response_data = requests.get(f'https://api.sofascore.com/api/v1/player/{player_id}/characteristics')\n",
        "  response = response_data.json()\n",
        "  if len(response['positions']) >=1:\n",
        "    response = {key: response[key] for key in response.keys() if key == 'positions'}\n",
        "    response['player.id'] = player_id #Para fazer o merge depois\n",
        "    players_alternative_positions.append(response)"
      ],
      "metadata": {
        "id": "XpARTYeXL_OB"
      },
      "execution_count": 15,
      "outputs": []
    },
    {
      "cell_type": "code",
      "source": [
        "req_attributes = [get_player_attributes(p) for p in df_players['player.id']]\n",
        "req_alternative_positions = [get_alternative_positions(p) for p in df_players['player.id']]"
      ],
      "metadata": {
        "id": "EbbY7bCrFy5v"
      },
      "execution_count": 16,
      "outputs": []
    },
    {
      "cell_type": "code",
      "source": [
        "await parallel_requests(req_alternative_positions)"
      ],
      "metadata": {
        "id": "fRUIMOC5KPhR"
      },
      "execution_count": 17,
      "outputs": []
    },
    {
      "cell_type": "code",
      "source": [
        "await parallel_requests(req_attributes)"
      ],
      "metadata": {
        "id": "KrYZke9ovPm4"
      },
      "execution_count": 18,
      "outputs": []
    },
    {
      "cell_type": "code",
      "source": [
        "df_players_attributes = pd.json_normalize(players_atributtes, max_level=2)\n",
        "df_players_alternative_positions = pd.json_normalize(players_alternative_positions, max_level=2)"
      ],
      "metadata": {
        "id": "igsLDnRvVm8L",
        "cellView": "form"
      },
      "execution_count": 19,
      "outputs": []
    },
    {
      "cell_type": "code",
      "source": [
        "merged_data = df_players_alternative_positions.merge(df_players_attributes, on='player.id')"
      ],
      "metadata": {
        "id": "e6QeRvU9V-_V",
        "cellView": "form"
      },
      "execution_count": 20,
      "outputs": []
    },
    {
      "cell_type": "code",
      "source": [
        "#Como vieram muitas informações redundantes iremos dropá-las\n",
        "merged_data = merged_data.drop(columns=['name', 'firstName', 'lastName', 'slug', 'shortName','proposedMarketValue', 'jerseyNumber','team.slug', 'team.shortName', 'team.gender', 'team.sport.name',\n",
        "       'team.sport.slug', 'team.sport.id', 'team.tournament.name',\n",
        "       'team.tournament.slug', 'team.tournament.category',\n",
        "       'team.tournament.uniqueTournament', 'team.tournament.priority',\n",
        "       'team.tournament.id', 'team.primaryUniqueTournament.name',\n",
        "       'team.primaryUniqueTournament.slug',\n",
        "       'team.primaryUniqueTournament.category',\n",
        "       'team.primaryUniqueTournament.userCount',\n",
        "       'team.primaryUniqueTournament.id',\n",
        "       'team.primaryUniqueTournament.displayInverseHomeAwayTeams',\n",
        "       'team.userCount', 'team.nameCode', 'team.disabled', 'team.national',\n",
        "       'team.type', 'team.id', 'team.country.alpha2', 'team.country.name',\n",
        "       'team.teamColors.primary', 'team.teamColors.secondary',\n",
        "       'team.teamColors.text', 'userCount', 'id', 'team.name'])"
      ],
      "metadata": {
        "id": "Qb3ov2R7YE8I",
        "cellView": "form"
      },
      "execution_count": 21,
      "outputs": []
    },
    {
      "cell_type": "code",
      "source": [
        "merged_data.rename(columns={'country.alpha2':'countryCode', 'country.name':'countryName', 'proposedMarketValueRaw.value':'proposedMarketValue', 'proposedMarketValueRaw.currency': 'proposedMarketCurrency'}, inplace=True)"
      ],
      "metadata": {
        "id": "dN5JkyRDIJJh",
        "cellView": "form"
      },
      "execution_count": 22,
      "outputs": []
    },
    {
      "cell_type": "code",
      "source": [
        "df_players = merged_data.merge(df_players, on='player.id')"
      ],
      "metadata": {
        "id": "cjIbWAyMYfUT",
        "cellView": "form"
      },
      "execution_count": 23,
      "outputs": []
    },
    {
      "cell_type": "markdown",
      "source": [
        "## 3.2 - Engenharia reversa em features percentuais"
      ],
      "metadata": {
        "id": "cthFsIb4XIZP"
      }
    },
    {
      "cell_type": "markdown",
      "source": [
        "Para alguns fundamentos é exibida a quantidade e o percentual de acertos do jogador, mas não há a infomação de quantos quandos lances ele errou. \n",
        "\n",
        "Para o nosso modelo é mais interessante termos os dados dos acertos e dos erros do que os percentuais, por isso usei a regra de 3 para criar novas features demonstrando os erros cometidos em cada fundamento"
      ],
      "metadata": {
        "id": "d37q7ML55zKO"
      }
    },
    {
      "cell_type": "code",
      "source": [
        "def reverse_feature(frame, number, percentage, method = np.ceil):\n",
        " return ((frame[number] / (frame[percentage]/100)) - frame[number]).fillna(0).apply(lambda x: int(method(x)))"
      ],
      "metadata": {
        "id": "ZFex3s-PvDFe"
      },
      "execution_count": 24,
      "outputs": []
    },
    {
      "cell_type": "code",
      "source": [
        "df_players['aerialDuelsLost'] = reverse_feature(df_players, 'aerialDuelsWon', \n",
        "                                                'aerialDuelsWonPercentage')"
      ],
      "metadata": {
        "id": "AYAdS1Khs0Ij"
      },
      "execution_count": 25,
      "outputs": []
    },
    {
      "cell_type": "code",
      "source": [
        "df_players['groundDuelsLost'] = reverse_feature(df_players, 'groundDuelsWon', \n",
        "                                              'groundDuelsWonPercentage')"
      ],
      "metadata": {
        "id": "R-q-q-rK71Lb"
      },
      "execution_count": 26,
      "outputs": []
    },
    {
      "cell_type": "code",
      "source": [
        "df_players['unsuccessfulDribbles'] = reverse_feature(df_players, 'successfulDribbles', \n",
        "                                                     'successfulDribblesPercentage', np.ceil)"
      ],
      "metadata": {
        "id": "vnPKq59cxm6Z"
      },
      "execution_count": 27,
      "outputs": []
    },
    {
      "cell_type": "code",
      "source": [
        "df_players['unnacurateLongBalls'] = reverse_feature(df_players, 'accurateLongBalls',\n",
        "                                                    'accurateLongBallsPercentage')"
      ],
      "metadata": {
        "id": "jSH59amY6NO7"
      },
      "execution_count": 28,
      "outputs": []
    },
    {
      "cell_type": "code",
      "source": [
        "df_players['unaccurateCrosses'] = reverse_feature(df_players, 'accurateCrosses', \n",
        "                                                            'accurateCrossesPercentage')"
      ],
      "metadata": {
        "id": "TJir9p05_rsn"
      },
      "execution_count": 29,
      "outputs": []
    },
    {
      "cell_type": "code",
      "source": [
        "df_players['successfulShotFromSetPiece'] = (df_players['shotFromSetPiece'] * (df_players['setPieceConversion']/100)).apply(lambda x: int(np.ceil(x)))"
      ],
      "metadata": {
        "id": "1f9LJCSz0WZn"
      },
      "execution_count": 30,
      "outputs": []
    },
    {
      "cell_type": "code",
      "source": [
        "df_players['unsuccessfulShotFromSetPiece'] = reverse_feature(df_players, 'successfulShotFromSetPiece',\n",
        "                                                             'setPieceConversion', np.floor)"
      ],
      "metadata": {
        "id": "FQbt7AP_4K0X"
      },
      "execution_count": 31,
      "outputs": []
    },
    {
      "cell_type": "markdown",
      "source": [
        "#4 - Tratamento dos dados"
      ],
      "metadata": {
        "id": "1YLf_dVlvCH0"
      }
    },
    {
      "cell_type": "markdown",
      "source": [
        "##4.1 - Tratando valores nulos"
      ],
      "metadata": {
        "id": "4g30DUCEbE1T"
      }
    },
    {
      "cell_type": "code",
      "source": [
        "df_players.columns[df_players.isna().any()].tolist()"
      ],
      "metadata": {
        "colab": {
          "base_uri": "https://localhost:8080/"
        },
        "id": "qbZhRrkP2Gi7",
        "outputId": "304fc185-aa71-43d0-d956-591320a07d85"
      },
      "execution_count": 32,
      "outputs": [
        {
          "output_type": "execute_result",
          "data": {
            "text/plain": [
              "['retired',\n",
              " 'shirtNumber',\n",
              " 'contractUntilTimestamp',\n",
              " 'proposedMarketValue',\n",
              " 'proposedMarketCurrency']"
            ]
          },
          "metadata": {},
          "execution_count": 32
        }
      ]
    },
    {
      "cell_type": "markdown",
      "source": [
        "Para o prazo de término dos contratos dos jogadores iremos assumir que quem não possuir esta informação preenchida irá ter o seu contrato encerrado no fim da próxima temporada."
      ],
      "metadata": {
        "id": "q2xBOrpmqunb"
      }
    },
    {
      "cell_type": "code",
      "source": [
        "from datetime import date\n",
        "import time\n",
        "next_year = date.today().year + 1\n",
        "next_season_end = date(next_year, 12,31)\n",
        "next_season_end = time.mktime(next_season_end.timetuple())"
      ],
      "metadata": {
        "id": "jE1mMH_Y5ZG5"
      },
      "execution_count": 33,
      "outputs": []
    },
    {
      "cell_type": "code",
      "source": [
        "df_players.fillna({'height': np.ceil(df_players['height'].mean()),\n",
        "                   'preferredFoot': df_players['preferredFoot'].mode().values[0], \n",
        "                   'shirtNumber': 0,\n",
        "                   'retired': False,\n",
        "                   'proposedMarketCurrency': 'EUR',\n",
        "                   'contractUntilTimestamp': next_season_end\n",
        "                   }, inplace=True)"
      ],
      "metadata": {
        "id": "z2CqYvKc1ghD"
      },
      "execution_count": 34,
      "outputs": []
    },
    {
      "cell_type": "code",
      "source": [
        "df_players['proposedMarketValue'].dropna(inplace=True)"
      ],
      "metadata": {
        "id": "p4UkItKYxlPh"
      },
      "execution_count": 35,
      "outputs": []
    },
    {
      "cell_type": "code",
      "source": [
        "df_players = df_players[df_players.columns.sort_values(ascending=True)]"
      ],
      "metadata": {
        "id": "dXWk6CEy1nfN"
      },
      "execution_count": 36,
      "outputs": []
    },
    {
      "cell_type": "code",
      "source": [
        "#Só quero players que estiveram em alguma partida na temporada\n",
        "df_players = df_players[df_players['proposedMarketValue']>0]"
      ],
      "metadata": {
        "id": "9ASKJqZ8vBwL"
      },
      "execution_count": 37,
      "outputs": []
    },
    {
      "cell_type": "markdown",
      "source": [
        "##4.2 - Tratamento de transferências\n",
        "Como é possível capturar dados de ligas diferentes, pode ser que o jogador que estava em uma Liga A tenha se transferido para uma Liga B, com isso o seu registro é exibido duas vezes o que irá causar um problema na execução do algoritmo KNN já que em breve iremos indexar o dataframe pelo ID do Jogador. Portanto, optei por eliminar os jogadores duplicados já que não faz tanto sentido comparar ele com ele mesmo."
      ],
      "metadata": {
        "id": "gdvnJSC3bUUq"
      }
    },
    {
      "cell_type": "code",
      "source": [
        "df_players = df_players.drop_duplicates(subset=['player.id'], keep='last', ignore_index=True)"
      ],
      "metadata": {
        "id": "I8YcQ6xybxNR"
      },
      "execution_count": 38,
      "outputs": []
    },
    {
      "cell_type": "markdown",
      "source": [
        "## 4.3 - Tratamento de Outliers [*TODO*]"
      ],
      "metadata": {
        "id": "wcvYlQuAHGP6"
      }
    },
    {
      "cell_type": "markdown",
      "source": [
        "#5 - Análise exploratória  [*TODO*]\n",
        "\n"
      ],
      "metadata": {
        "id": "r1O2Y452PXRT"
      }
    },
    {
      "cell_type": "markdown",
      "source": [
        "#6 - Geração do Modelo"
      ],
      "metadata": {
        "id": "y5wWKTgbOhmU"
      }
    },
    {
      "cell_type": "markdown",
      "source": [
        "##6.1 - Transformando as posições alternativas em colunas"
      ],
      "metadata": {
        "id": "AOYbuRLbW_g5"
      }
    },
    {
      "cell_type": "code",
      "source": [
        "X = df_players.copy()"
      ],
      "metadata": {
        "id": "rVCutMBhiXV-"
      },
      "execution_count": 39,
      "outputs": []
    },
    {
      "cell_type": "code",
      "source": [
        "X[['AM', 'DC', 'DL', 'DM', 'DR', 'LW', 'MC', 'ML', 'MR', 'RW', 'ST']] = 0"
      ],
      "metadata": {
        "id": "YE9_5g-XWHma"
      },
      "execution_count": 40,
      "outputs": []
    },
    {
      "cell_type": "code",
      "source": [
        "for i, p in enumerate(X['positions'].tolist()):\n",
        "    X.loc[i, p] = 1"
      ],
      "metadata": {
        "id": "26gFy1NlWMIa"
      },
      "execution_count": 41,
      "outputs": []
    },
    {
      "cell_type": "code",
      "source": [
        "#Alterando o indice para o player.id\n",
        "X.set_index('player.id', inplace = True)"
      ],
      "metadata": {
        "id": "_p60IsNvgGS5"
      },
      "execution_count": 42,
      "outputs": []
    },
    {
      "cell_type": "markdown",
      "source": [
        "##6.2 - Enconding das features categoricas"
      ],
      "metadata": {
        "id": "Af1ltPDqDahp"
      }
    },
    {
      "cell_type": "code",
      "source": [
        "from sklearn.preprocessing import OneHotEncoder\n",
        "f_encoder = OneHotEncoder()\n",
        "c_encoder = OneHotEncoder()\n",
        "p_encoder = OneHotEncoder()\n",
        "feet = f_encoder.fit_transform(X[['preferredFoot']])\n",
        "country = c_encoder.fit_transform(X[['countryName']])\n",
        "position = p_encoder.fit_transform(X[['position']])"
      ],
      "metadata": {
        "id": "iTTFyFs1-KKF"
      },
      "execution_count": 43,
      "outputs": []
    },
    {
      "cell_type": "code",
      "source": [
        "X[f_encoder.categories_[0]] = feet.toarray()\n",
        "X[c_encoder.categories_[0]] = country.toarray()\n",
        "X[p_encoder.categories_[0]] = position.toarray()"
      ],
      "metadata": {
        "id": "8bFGbI7hAZAF"
      },
      "execution_count": 44,
      "outputs": []
    },
    {
      "cell_type": "code",
      "source": [
        "X.drop([\n",
        "        'player.name', 'player.slug',\n",
        "       'player.userCount', 'team.name', 'team.slug', 'team.shortName',\n",
        "       'team.sport.name', 'team.sport.slug', 'team.sport.id', 'team.userCount',\n",
        "       'team.type', 'team.id', 'team.teamColors.primary',\n",
        "       'team.teamColors.secondary', 'team.teamColors.text', 'shirtNumber', 'league',\n",
        "       'positions','position', 'preferredFoot', 'shirtNumber',\n",
        "        'countryCode', 'countryName',\n",
        "        'retired','proposedMarketCurrency',\n",
        "       #Percentuais já foram convertidos em novas features anteriormente\n",
        "       'accurateLongBallsPercentage','aerialDuelsWonPercentage','goalConversionPercentage','groundDuelsWonPercentage',\n",
        "       'successfulDribblesPercentage','totalDuelsWonPercentage', 'setPieceConversion', 'accurateCrossesPercentage',\n",
        "       #Redundantes em relação aos erros e acertos\n",
        "       'totalDuelsWon', 'totalShots', 'totalPasses', 'shotFromSetPiece'\n",
        "], axis='columns', inplace=True)"
      ],
      "metadata": {
        "id": "yrpLlw7V7T3F"
      },
      "execution_count": 45,
      "outputs": []
    },
    {
      "cell_type": "code",
      "source": [
        "from scipy.sparse import csr_matrix\n",
        "stats_sparse = csr_matrix(X)"
      ],
      "metadata": {
        "id": "3VpV2NqWOg_w"
      },
      "execution_count": 46,
      "outputs": []
    },
    {
      "cell_type": "code",
      "source": [
        "from sklearn.neighbors import NearestNeighbors\n",
        "model = NearestNeighbors(algorithm='brute', n_neighbors=5)\n",
        "model.fit(stats_sparse)"
      ],
      "metadata": {
        "id": "N-JM8Q_rOHZc",
        "colab": {
          "base_uri": "https://localhost:8080/"
        },
        "outputId": "e00e576b-5cd5-49db-8058-41d80e598064"
      },
      "execution_count": 47,
      "outputs": [
        {
          "output_type": "execute_result",
          "data": {
            "text/plain": [
              "NearestNeighbors(algorithm='brute')"
            ]
          },
          "metadata": {},
          "execution_count": 47
        }
      ]
    },
    {
      "cell_type": "markdown",
      "source": [
        "# 7 - Apresentação dos Resultados"
      ],
      "metadata": {
        "id": "TjzmuaFbXuuh"
      }
    },
    {
      "cell_type": "code",
      "source": [
        "from ipywidgets import interact"
      ],
      "metadata": {
        "id": "l9INlaxOlNFo",
        "cellView": "form"
      },
      "execution_count": 48,
      "outputs": []
    },
    {
      "cell_type": "code",
      "source": [
        "dp_players = df_players[['player.name','player.id']].sort_values(by=['player.name']).values.tolist()"
      ],
      "metadata": {
        "cellView": "form",
        "id": "LSKB51cMGcD-"
      },
      "execution_count": 49,
      "outputs": []
    },
    {
      "cell_type": "code",
      "source": [
        "def get_similars(Player):\n",
        "  distance, similar_players_index = model.kneighbors(X.loc[Player].values.reshape(1,-1))\n",
        "  similar_players = pd.DataFrame()\n",
        "  similar_players = df_players.loc[df_players.index[similar_players_index[0]]]\n",
        "  similar_players['distances'] = distance[0]\n",
        "  return similar_players[['player.name', 'team.name','rating']]"
      ],
      "metadata": {
        "id": "5wrCpIM9kxQ5",
        "cellView": "form"
      },
      "execution_count": 50,
      "outputs": []
    },
    {
      "cell_type": "code",
      "source": [
        "\n",
        "interact(get_similars, Player=dp_players);"
      ],
      "metadata": {
        "colab": {
          "base_uri": "https://localhost:8080/",
          "height": 228,
          "referenced_widgets": [
            "61c040e859e0446ab97aeae30918ec5d",
            "704785e2f714453da60cffe4314fafda",
            "b4d9828850f04e0fa6203f1ae50eef6f",
            "64334e2c7ead40b69b51f9d35cfefd87",
            "152876386f9b4c75bd5d6fccd6a3c7d3",
            "d2cf52b35f5840c28ee770c1f231c7ec",
            "e628e7da908f4ee5870b51c3e7c5c692"
          ]
        },
        "id": "DyLj3BMIkuiB",
        "outputId": "526c1377-80eb-426b-8dde-c4a9db06a927",
        "cellView": "form"
      },
      "execution_count": 51,
      "outputs": [
        {
          "output_type": "display_data",
          "data": {
            "text/plain": [
              "interactive(children=(Dropdown(description='Player', options=(['Ademir', 922546], ['Adil Aouchiche', 962877], …"
            ],
            "application/vnd.jupyter.widget-view+json": {
              "version_major": 2,
              "version_minor": 0,
              "model_id": "61c040e859e0446ab97aeae30918ec5d"
            }
          },
          "metadata": {}
        }
      ]
    }
  ]
}